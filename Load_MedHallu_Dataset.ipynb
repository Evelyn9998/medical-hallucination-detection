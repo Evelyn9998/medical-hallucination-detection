{
 "cells": [
  {
   "cell_type": "code",
   "execution_count": 4,
   "id": "e9f08fbc",
   "metadata": {},
   "outputs": [],
   "source": [
    "from datasets import load_dataset\n",
    "import pandas as pd\n",
    "\n",
    "# Load the labeled split (1,000 high-quality samples)\n",
    "labeled_data = load_dataset(\"UTAustin-AIHealth/MedHallu\", \"pqa_labeled\")\n",
    "\n",
    "# Load the artificial split (9,000 samples)\n",
    "artificial_data = load_dataset(\"UTAustin-AIHealth/MedHallu\", \"pqa_artificial\")"
   ]
  },
  {
   "cell_type": "code",
   "execution_count": null,
   "id": "558294ee",
   "metadata": {},
   "outputs": [
    {
     "name": "stdout",
     "output_type": "stream",
     "text": [
      "{'Question': Value(dtype='string', id=None), 'Knowledge': Sequence(feature=Value(dtype='string', id=None), length=-1, id=None), 'Ground Truth': Value(dtype='string', id=None), 'Difficulty Level': Value(dtype='string', id=None), 'Hallucinated Answer': Value(dtype='string', id=None), 'Category of Hallucination': Value(dtype='string', id=None)}\n",
      "{'Question': 'Do mitochondria play a role in remodelling lace plant leaves during programmed cell death?', 'Knowledge': ['Programmed cell death (PCD) is the regulated death of cells within an organism. The lace plant (Aponogeton madagascariensis) produces perforations in its leaves through PCD. The leaves of the plant consist of a latticework of longitudinal and transverse veins enclosing areoles. PCD occurs in the cells at the center of these areoles and progresses outwards, stopping approximately five cells from the vasculature. The role of mitochondria during PCD has been recognized in animals; however, it has been less studied during PCD in plants.', 'The following paper elucidates the role of mitochondrial dynamics during developmentally regulated PCD in vivo in A. madagascariensis. A single areole within a window stage leaf (PCD is occurring) was divided into three areas based on the progression of PCD; cells that will not undergo PCD (NPCD), cells in early stages of PCD (EPCD), and cells in late stages of PCD (LPCD). Window stage leaves were stained with the mitochondrial dye MitoTracker Red CMXRos and examined. Mitochondrial dynamics were delineated into four categories (M1-M4) based on characteristics including distribution, motility, and membrane potential (ΔΨm). A TUNEL assay showed fragmented nDNA in a gradient over these mitochondrial stages. Chloroplasts and transvacuolar strands were also examined using live cell imaging. The possible importance of mitochondrial permeability transition pore (PTP) formation during PCD was indirectly examined via in vivo cyclosporine A (CsA) treatment. This treatment resulted in lace plant leaves with a significantly lower number of perforations compared to controls, and that displayed mitochondrial dynamics similar to that of non-PCD cells.'], 'Ground Truth': 'Results depicted mitochondrial dynamics in vivo as PCD progresses within the lace plant, and highlight the correlation of this organelle with other organelles during developmental PCD. To the best of our knowledge, this is the first report of mitochondria and chloroplasts moving on transvacuolar strands to form a ring structure surrounding the nucleus during developmental PCD. Also, for the first time, we have shown the feasibility for the use of CsA in a whole plant system. Overall, our findings implicate the mitochondria as playing a critical and early role in developmentally regulated PCD in the lace plant.', 'Difficulty Level': 'medium', 'Hallucinated Answer': 'Mitochondria regulate the formation of perforations in lace plant leaves through the modulation of calcium channels and by activating specific proteases that degrade cellular structures, facilitating the PCD process.', 'Category of Hallucination': 'Mechanism and Pathway Misattribution'}\n"
     ]
    }
   ],
   "source": [
    "print(labeled_data['train'].features)\n",
    "\n",
    "\"\"\"\n",
    "expected output：\n",
    "{'Question': Value(dtype='string', id=None), \n",
    "'Knowledge': Sequence(feature=Value(dtype='string', id=None), length=-1, id=None), \n",
    "'Ground Truth': Value(dtype='string', id=None), \n",
    "'Difficulty Level': Value(dtype='string', id=None), \n",
    "'Hallucinated Answer': Value(dtype='string', id=None), \n",
    "'Category of Hallucination': Value(dtype='string', id=None)}\n",
    "\"\"\"\n",
    "\n",
    "\n",
    "print(labeled_data['train'][0])"
   ]
  },
  {
   "cell_type": "code",
   "execution_count": 6,
   "id": "1c531746",
   "metadata": {},
   "outputs": [
    {
     "name": "stdout",
     "output_type": "stream",
     "text": [
      "All hallucination categories:\n",
      "- Incomplete Information\n",
      "- Methodological and Evidence Fabrication\n",
      "- Misinterpretation of #Question#\n",
      "- Mechanism and Pathway Misattribution\n"
     ]
    }
   ],
   "source": [
    "# Get all unique hallucination categories\n",
    "unique_categories = set(labeled_data['train']['Category of Hallucination'])\n",
    "print(\"All hallucination categories:\")\n",
    "for category in unique_categories:\n",
    "    print(f\"- {category}\")"
   ]
  },
  {
   "cell_type": "code",
   "execution_count": 7,
   "id": "96131842",
   "metadata": {},
   "outputs": [
    {
     "name": "stdout",
     "output_type": "stream",
     "text": [
      "Hallucination category distribution:\n",
      "Mechanism and Pathway Misattribution: 33\n",
      "Incomplete Information: 212\n",
      "Misinterpretation of #Question#: 752\n",
      "Methodological and Evidence Fabrication: 3\n"
     ]
    }
   ],
   "source": [
    "from collections import Counter\n",
    "\n",
    "# Count occurrences of each category\n",
    "category_counts = Counter(labeled_data['train']['Category of Hallucination'])\n",
    "print(\"Hallucination category distribution:\")\n",
    "for category, count in category_counts.items():\n",
    "    print(f\"{category}: {count}\")"
   ]
  },
  {
   "cell_type": "code",
   "execution_count": 8,
   "id": "c27fcac4",
   "metadata": {},
   "outputs": [
    {
     "name": "stdout",
     "output_type": "stream",
     "text": [
      "Sample 1: Mechanism and Pathway Misattribution - Do mitochondria play a role in remodelling lace pl...\n",
      "Sample 2: Incomplete Information - Landolt C and snellen e acuity: differences in str...\n",
      "Sample 3: Misinterpretation of #Question# - Syncope during bathing in infants, a pediatric for...\n",
      "Sample 4: Misinterpretation of #Question# - Are the long-term results of the transanal pull-th...\n",
      "Sample 5: Incomplete Information - Can tailored interventions increase mammography us...\n",
      "Sample 6: Misinterpretation of #Question# - Double balloon enteroscopy: is it efficacious and ...\n",
      "Sample 7: Misinterpretation of #Question# - 30-Day and 1-year mortality in emergency general s...\n",
      "Sample 8: Incomplete Information - Is adjustment for reporting heterogeneity necessar...\n",
      "Sample 9: Misinterpretation of #Question# - Do mutations causing low HDL-C promote increased c...\n",
      "Sample 10: Incomplete Information - A short stay or 23-hour ward in a general and acad...\n"
     ]
    }
   ],
   "source": [
    "# View hallucination categories for the first 10 samples\n",
    "for i in range(min(10, len(labeled_data['train']))):\n",
    "    category = labeled_data['train']['Category of Hallucination'][i]\n",
    "    question = labeled_data['train']['Question'][i][:50] + \"...\"  # Truncate question to 50 chars\n",
    "    print(f\"Sample {i+1}: {category} - {question}\")"
   ]
  },
  {
   "cell_type": "code",
   "execution_count": 9,
   "id": "ffea6762",
   "metadata": {},
   "outputs": [
    {
     "name": "stdout",
     "output_type": "stream",
     "text": [
      "Hallucination category statistics:\n",
      "Category of Hallucination\n",
      "Misinterpretation of #Question#            752\n",
      "Incomplete Information                     212\n",
      "Mechanism and Pathway Misattribution        33\n",
      "Methodological and Evidence Fabrication      3\n",
      "Name: count, dtype: int64\n",
      "\n",
      "Grouped by category:\n",
      "\n",
      "=== Mechanism and Pathway Misattribution ===\n",
      "Number of samples: 33\n",
      "  Sample 1: Do mitochondria play a role in remodelling lace plant leaves during programmed cell death?...\n",
      "  Sample 2: Does diabetes mellitus influence the efficacy of FDG-PET in the diagnosis of cervical cancer?...\n",
      "  Sample 3: Major depression and alcohol use disorder in adolescence: Does comorbidity lead to poorer outcomes o...\n",
      "\n",
      "=== Incomplete Information ===\n",
      "Number of samples: 212\n",
      "  Sample 1: Landolt C and snellen e acuity: differences in strabismus amblyopia?...\n",
      "  Sample 2: Can tailored interventions increase mammography use among HMO women?...\n",
      "  Sample 3: Is adjustment for reporting heterogeneity necessary in sleep disorders?...\n",
      "\n",
      "=== Misinterpretation of #Question# ===\n",
      "Number of samples: 752\n",
      "  Sample 1: Syncope during bathing in infants, a pediatric form of water-induced urticaria?...\n",
      "  Sample 2: Are the long-term results of the transanal pull-through equal to those of the transabdominal pull-th...\n",
      "  Sample 3: Double balloon enteroscopy: is it efficacious and safe in a community setting?...\n",
      "\n",
      "=== Methodological and Evidence Fabrication ===\n",
      "Number of samples: 3\n",
      "  Sample 1: Does immediate breast reconstruction compromise the delivery of adjuvant chemotherapy?...\n",
      "  Sample 2: Is first-line single-agent mitoxantrone in the treatment of high-risk metastatic breast cancer patie...\n",
      "  Sample 3: Does airway surgery lower serum lipid levels in obstructive sleep apnea patients?...\n"
     ]
    }
   ],
   "source": [
    "# Use Pandas for More Convenient Analysis\n",
    "import pandas as pd\n",
    "\n",
    "# Convert to DataFrame\n",
    "df = pd.DataFrame(labeled_data['train'])\n",
    "\n",
    "# View hallucination category distribution\n",
    "print(\"Hallucination category statistics:\")\n",
    "print(df['Category of Hallucination'].value_counts())\n",
    "\n",
    "# View samples by category\n",
    "print(\"\\nGrouped by category:\")\n",
    "for category in df['Category of Hallucination'].unique():\n",
    "    print(f\"\\n=== {category} ===\")\n",
    "    category_samples = df[df['Category of Hallucination'] == category]\n",
    "    print(f\"Number of samples: {len(category_samples)}\")\n",
    "    # Show first few sample questions\n",
    "    for idx, question in enumerate(category_samples['Question'].head(3)):\n",
    "        print(f\"  Sample {idx+1}: {question[:100]}...\")"
   ]
  }
 ],
 "metadata": {
  "kernelspec": {
   "display_name": "base",
   "language": "python",
   "name": "python3"
  },
  "language_info": {
   "codemirror_mode": {
    "name": "ipython",
    "version": 3
   },
   "file_extension": ".py",
   "mimetype": "text/x-python",
   "name": "python",
   "nbconvert_exporter": "python",
   "pygments_lexer": "ipython3",
   "version": "3.12.2"
  }
 },
 "nbformat": 4,
 "nbformat_minor": 5
}
